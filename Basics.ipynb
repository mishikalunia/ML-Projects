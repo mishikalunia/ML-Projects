{
 "cells": [
  {
   "cell_type": "markdown",
   "id": "f00fc58a",
   "metadata": {},
   "source": [
    "### Exercise 1 Basic Numpy\n",
    "\n",
    "(1) Create an array of 10 random integers, from 0-100.\n",
    "\n",
    "(2) Find the mean and standard deviation of these numbers.  \n",
    "\n",
    "(3) Create another array of 10 random integers, from 0-100.\n",
    "\n",
    "(4) Create a new array whose elements are the average of those from\n",
    "    each of the previous ones.  \n",
    "\n",
    "(5) Create an array of 10 random floats, from 0-100.\n",
    "\n",
    "(6) We would expect the mean to be approaximately 50.  Is it?  What's\n",
    "    the standard deviation?\n",
    "\n",
    "(7) What are the min and max values?"
   ]
  },
  {
   "cell_type": "code",
   "execution_count": 1,
   "id": "e691b4b7",
   "metadata": {},
   "outputs": [],
   "source": [
    "import numpy as np"
   ]
  },
  {
   "cell_type": "code",
   "execution_count": 2,
   "id": "223388c9",
   "metadata": {},
   "outputs": [
    {
     "data": {
      "text/plain": [
       "array([ 1,  6, 44, 77, 33, 95, 15, 47,  9, 55])"
      ]
     },
     "execution_count": 2,
     "metadata": {},
     "output_type": "execute_result"
    }
   ],
   "source": [
    "a = np.random.randint(0,100, 10)\n",
    "a"
   ]
  },
  {
   "cell_type": "code",
   "execution_count": 3,
   "id": "94200d92",
   "metadata": {},
   "outputs": [
    {
     "name": "stdout",
     "output_type": "stream",
     "text": [
      " mean = 38.2  std = 29.939271868233536\n"
     ]
    }
   ],
   "source": [
    "print(f\" mean = {a.mean()}  std = {a.std()}\")"
   ]
  },
  {
   "cell_type": "code",
   "execution_count": 4,
   "id": "d8a2862a",
   "metadata": {},
   "outputs": [
    {
     "data": {
      "text/plain": [
       "array([26, 43,  9, 60, 24, 72, 13, 98, 11, 93])"
      ]
     },
     "execution_count": 4,
     "metadata": {},
     "output_type": "execute_result"
    }
   ],
   "source": [
    "b  = np.random.randint(0, 100, 10)\n",
    "b"
   ]
  },
  {
   "cell_type": "code",
   "execution_count": 5,
   "id": "79e61c3a",
   "metadata": {},
   "outputs": [
    {
     "data": {
      "text/plain": [
       "array([38.2, 44.9])"
      ]
     },
     "execution_count": 5,
     "metadata": {},
     "output_type": "execute_result"
    }
   ],
   "source": [
    "c = np.array([a.mean(), b.mean()])\n",
    "c"
   ]
  },
  {
   "cell_type": "code",
   "execution_count": 10,
   "id": "bbb96b4c",
   "metadata": {},
   "outputs": [
    {
     "data": {
      "text/plain": [
       "array([27.72159405, 75.17633132, 41.20515559, 19.19845995, 79.65038778,\n",
       "       59.49875184, 72.68249297, 88.95342748, 49.65115912,  7.89265843])"
      ]
     },
     "execution_count": 10,
     "metadata": {},
     "output_type": "execute_result"
    }
   ],
   "source": [
    "d = np.random.rand( 10)*100\n",
    "d"
   ]
  },
  {
   "cell_type": "code",
   "execution_count": 11,
   "id": "b0ced67f",
   "metadata": {},
   "outputs": [
    {
     "data": {
      "text/plain": [
       "52.1630418537287"
      ]
     },
     "execution_count": 11,
     "metadata": {},
     "output_type": "execute_result"
    }
   ],
   "source": [
    "d.mean()"
   ]
  },
  {
   "cell_type": "code",
   "execution_count": 12,
   "id": "fa9cc9ac",
   "metadata": {},
   "outputs": [
    {
     "data": {
      "text/plain": [
       "26.237108023129736"
      ]
     },
     "execution_count": 12,
     "metadata": {},
     "output_type": "execute_result"
    }
   ],
   "source": [
    "d.std()"
   ]
  },
  {
   "cell_type": "code",
   "execution_count": 13,
   "id": "cb37737f",
   "metadata": {},
   "outputs": [
    {
     "name": "stdout",
     "output_type": "stream",
     "text": [
      " min= 7.8926584259855765  max = 88.95342748400849\n"
     ]
    }
   ],
   "source": [
    "print(f\" min= {d.min()}  max = {d.max()}\")"
   ]
  },
  {
   "cell_type": "markdown",
   "id": "83c21e70",
   "metadata": {},
   "source": [
    "### Exercise 2 Indexing\n",
    "\n",
    "(1) Create an array of 20 random integers from 0 to 100.\n",
    "\n",
    "(2) Find the largest even number.\n",
    "\n",
    "(3) Find the mean of the odd numbers.\n",
    "\n",
    "(4) Create a NumPy array from the first and last odd numbers.\n",
    "\n",
    "(5) Create an array of 20 floats from 0-1,000.\n",
    "\n",
    "(6) Find the items that are less than the mean.\n",
    "\n",
    "(7) Find the items less than mean-std."
   ]
  },
  {
   "cell_type": "code",
   "execution_count": 19,
   "id": "8e18936c",
   "metadata": {},
   "outputs": [
    {
     "data": {
      "text/plain": [
       "array([60, 71, 82, 58, 27, 28, 97, 21, 34, 94, 19, 82, 92, 51, 60, 71, 51,\n",
       "       32, 28, 20])"
      ]
     },
     "execution_count": 19,
     "metadata": {},
     "output_type": "execute_result"
    }
   ],
   "source": [
    "a = np.random.randint(0, 100, 20)\n",
    "a"
   ]
  },
  {
   "cell_type": "code",
   "execution_count": 20,
   "id": "759a2e7f",
   "metadata": {},
   "outputs": [
    {
     "data": {
      "text/plain": [
       "94"
      ]
     },
     "execution_count": 20,
     "metadata": {},
     "output_type": "execute_result"
    }
   ],
   "source": [
    "a[ a%2 == 0].max()"
   ]
  },
  {
   "cell_type": "code",
   "execution_count": 21,
   "id": "a6569400",
   "metadata": {},
   "outputs": [
    {
     "data": {
      "text/plain": [
       "51.0"
      ]
     },
     "execution_count": 21,
     "metadata": {},
     "output_type": "execute_result"
    }
   ],
   "source": [
    "a[a%2 != 0].mean()"
   ]
  },
  {
   "cell_type": "code",
   "execution_count": 22,
   "id": "2f688ff9",
   "metadata": {},
   "outputs": [
    {
     "data": {
      "text/plain": [
       "array([19, 97])"
      ]
     },
     "execution_count": 22,
     "metadata": {},
     "output_type": "execute_result"
    }
   ],
   "source": [
    "b = np.array([a[a%2 != 0].min(), a[a%2 != 0].max()])\n",
    "b"
   ]
  },
  {
   "cell_type": "code",
   "execution_count": 23,
   "id": "7c8a9b4b",
   "metadata": {},
   "outputs": [
    {
     "data": {
      "text/plain": [
       "array([423.262303  , 338.89625069, 921.07645555, 951.17856851,\n",
       "        72.60681983, 711.68849807, 686.49176282, 411.97902223,\n",
       "       720.17196286, 188.38543601,  63.65871171, 200.82859998,\n",
       "       242.51743378, 831.98778607, 426.82591081, 857.65664954,\n",
       "       744.1553205 , 539.98228376, 613.58403954, 173.24063334])"
      ]
     },
     "execution_count": 23,
     "metadata": {},
     "output_type": "execute_result"
    }
   ],
   "source": [
    "a = np.random.random(20) *1000\n",
    "a"
   ]
  },
  {
   "cell_type": "code",
   "execution_count": 24,
   "id": "5ff71942",
   "metadata": {},
   "outputs": [
    {
     "data": {
      "text/plain": [
       "array([423.262303  , 338.89625069,  72.60681983, 411.97902223,\n",
       "       188.38543601,  63.65871171, 200.82859998, 242.51743378,\n",
       "       426.82591081, 173.24063334])"
      ]
     },
     "execution_count": 24,
     "metadata": {},
     "output_type": "execute_result"
    }
   ],
   "source": [
    "a[a<a.mean()]"
   ]
  },
  {
   "cell_type": "code",
   "execution_count": 25,
   "id": "90d72849",
   "metadata": {},
   "outputs": [
    {
     "data": {
      "text/plain": [
       "array([ 72.60681983, 188.38543601,  63.65871171, 200.82859998,\n",
       "       173.24063334])"
      ]
     },
     "execution_count": 25,
     "metadata": {},
     "output_type": "execute_result"
    }
   ],
   "source": [
    "a[a<(a.mean() -a.std())]"
   ]
  },
  {
   "cell_type": "markdown",
   "id": "78eabb00",
   "metadata": {},
   "source": [
    "### Exercise 3 More indexing\n",
    "\n",
    "(1) Create a NumPy array of 20 random integers from 0-100.\n",
    "\n",
    "(2) What's the smallest even number greater than the mean?\n",
    "\n",
    "(3) Show all numbers either < mean-std or > mean+std.\n",
    "\n",
    "(4) Show odd numbers < mean and even numbers > mean."
   ]
  },
  {
   "cell_type": "code",
   "execution_count": 26,
   "id": "f9826605",
   "metadata": {},
   "outputs": [
    {
     "data": {
      "text/plain": [
       "array([58, 39, 97, 89, 23, 66, 61, 36, 17, 59, 20,  0, 39, 78, 47, 43, 50,\n",
       "       30, 47, 71])"
      ]
     },
     "execution_count": 26,
     "metadata": {},
     "output_type": "execute_result"
    }
   ],
   "source": [
    "a = np.random.randint(0, 100, 20)\n",
    "a"
   ]
  },
  {
   "cell_type": "code",
   "execution_count": 27,
   "id": "f3359643",
   "metadata": {},
   "outputs": [
    {
     "data": {
      "text/plain": [
       "48.5"
      ]
     },
     "execution_count": 27,
     "metadata": {},
     "output_type": "execute_result"
    }
   ],
   "source": [
    "a.mean()"
   ]
  },
  {
   "cell_type": "code",
   "execution_count": 28,
   "id": "0387e230",
   "metadata": {},
   "outputs": [
    {
     "data": {
      "text/plain": [
       "50"
      ]
     },
     "execution_count": 28,
     "metadata": {},
     "output_type": "execute_result"
    }
   ],
   "source": [
    "a[((a>a.mean()) * (a%2==0))].min()"
   ]
  },
  {
   "cell_type": "code",
   "execution_count": 29,
   "id": "84b5744c",
   "metadata": {},
   "outputs": [
    {
     "data": {
      "text/plain": [
       "array([97, 89, 23, 17, 20,  0, 78])"
      ]
     },
     "execution_count": 29,
     "metadata": {},
     "output_type": "execute_result"
    }
   ],
   "source": [
    "a[(a<(a.mean()- a.std())) | (a>(a.mean()+a.std()))]"
   ]
  },
  {
   "cell_type": "code",
   "execution_count": 30,
   "id": "4417db77",
   "metadata": {},
   "outputs": [
    {
     "data": {
      "text/plain": [
       "array([], dtype=int64)"
      ]
     },
     "execution_count": 30,
     "metadata": {},
     "output_type": "execute_result"
    }
   ],
   "source": [
    "a[((a%2 != 0)*(a<a.mean())) * ((a%2 == 0)*(a>a.mean()))] "
   ]
  },
  {
   "cell_type": "code",
   "execution_count": 31,
   "id": "d71b383c",
   "metadata": {},
   "outputs": [],
   "source": [
    "# no element because there will be no intersection/common element which is greater than mean and less than mean at the same time"
   ]
  },
  {
   "cell_type": "markdown",
   "id": "936de142",
   "metadata": {},
   "source": [
    "### Exercise 4 Assigning via indexes\n",
    "\n",
    "(1) Create a NumPy array of 40 random integers, from 0-100.\n",
    "\n",
    "(2) Find all numbers that are within 1 standard deviation of the mean,\n",
    "    and set them to be equal to the mean.  Has the mean changed?  Has\n",
    "    the std changed?\n",
    "\n",
    "(3) Create another NumPy array of 10 random integers, from 0-100.\n",
    "\n",
    "(4) Set the item at the even indexes to be equal to the items at the odd\n",
    "    indexes.  So index 0 will get the value at index 1, etc."
   ]
  },
  {
   "cell_type": "code",
   "execution_count": 37,
   "id": "810128d9",
   "metadata": {},
   "outputs": [
    {
     "data": {
      "text/plain": [
       "array([52, 92, 66,  0, 72, 88, 66, 61, 12, 62, 89, 18, 65, 83, 16, 62, 56,\n",
       "       85, 11, 48, 38, 21, 41, 77,  4, 33, 84, 16, 68, 40, 71, 32, 53, 22,\n",
       "       11,  1, 17, 74, 98, 57])"
      ]
     },
     "execution_count": 37,
     "metadata": {},
     "output_type": "execute_result"
    }
   ],
   "source": [
    "a = np.random.randint(0,100, 40)\n",
    "a"
   ]
  },
  {
   "cell_type": "code",
   "execution_count": 38,
   "id": "5f1e7b46",
   "metadata": {},
   "outputs": [
    {
     "name": "stdout",
     "output_type": "stream",
     "text": [
      " mean = 49.05  std = 28.618132363940177\n"
     ]
    }
   ],
   "source": [
    "print(f\" mean = {a.mean()}  std = {a.std()}\")"
   ]
  },
  {
   "cell_type": "code",
   "execution_count": 39,
   "id": "905c596f",
   "metadata": {},
   "outputs": [
    {
     "data": {
      "text/plain": [
       "array([49, 92, 49,  0, 49, 88, 49, 49, 12, 49, 89, 18, 49, 83, 16, 49, 49,\n",
       "       85, 11, 49, 49, 49, 49, 49,  4, 49, 84, 16, 49, 49, 49, 49, 49, 49,\n",
       "       11,  1, 17, 49, 98, 49])"
      ]
     },
     "execution_count": 39,
     "metadata": {},
     "output_type": "execute_result"
    }
   ],
   "source": [
    "a[(a>(a.mean() - a.std())) * (a<(a.mean() + a.std()))] = a.mean()\n",
    "a"
   ]
  },
  {
   "cell_type": "code",
   "execution_count": 41,
   "id": "431bf805",
   "metadata": {},
   "outputs": [
    {
     "name": "stdout",
     "output_type": "stream",
     "text": [
      " mean = 46.3  std = 25.44916501577213\n"
     ]
    }
   ],
   "source": [
    "print(f\" mean = {a.mean()}  std = {a.std()}\")  "
   ]
  },
  {
   "cell_type": "code",
   "execution_count": 42,
   "id": "6e780f3c",
   "metadata": {},
   "outputs": [],
   "source": [
    "# yes mean and std has changed"
   ]
  },
  {
   "cell_type": "code",
   "execution_count": 43,
   "id": "96814a2f",
   "metadata": {},
   "outputs": [
    {
     "data": {
      "text/plain": [
       "array([71, 35, 53,  9, 41, 71, 90, 73, 95, 88])"
      ]
     },
     "execution_count": 43,
     "metadata": {},
     "output_type": "execute_result"
    }
   ],
   "source": [
    "a = np.random.randint(0,100, 10)\n",
    "a"
   ]
  },
  {
   "cell_type": "code",
   "execution_count": 46,
   "id": "75b31677",
   "metadata": {},
   "outputs": [
    {
     "data": {
      "text/plain": [
       "array([35, 35,  9,  9, 71, 71, 73, 73, 88, 88])"
      ]
     },
     "execution_count": 46,
     "metadata": {},
     "output_type": "execute_result"
    }
   ],
   "source": [
    "a[::2] = a[1::2]\n",
    "a"
   ]
  },
  {
   "cell_type": "markdown",
   "id": "f1f639e8",
   "metadata": {},
   "source": [
    "### Exercise 5 Data types\n",
    "\n",
    "(1) Create a NumPy array of 10 random integers from 0-100.\n",
    "\n",
    "(2) Calculate the mean, which will be a float.\n",
    "\n",
    "(3) Create an array of type float based on it, and replace the\n",
    "    outliers (i.e., < mean-std or > mean+std) with the mean.\n",
    "\n",
    "(4) Create a NumPy array of 20 random floats from 0-100.\n",
    "\n",
    "(5) Replace those numbers whose int portion is even with the mean.\n",
    "    (So 20.5 would be replaced, but 21.5 would not be.)"
   ]
  },
  {
   "cell_type": "code",
   "execution_count": 47,
   "id": "0b0a1748",
   "metadata": {},
   "outputs": [
    {
     "data": {
      "text/plain": [
       "array([36,  4, 65,  6, 24, 65, 36, 91, 10, 19])"
      ]
     },
     "execution_count": 47,
     "metadata": {},
     "output_type": "execute_result"
    }
   ],
   "source": [
    "a = np.random.randint(0,100, 10)\n",
    "a"
   ]
  },
  {
   "cell_type": "code",
   "execution_count": 48,
   "id": "a7c78398",
   "metadata": {},
   "outputs": [
    {
     "data": {
      "text/plain": [
       "35.6"
      ]
     },
     "execution_count": 48,
     "metadata": {},
     "output_type": "execute_result"
    }
   ],
   "source": [
    "a.mean()"
   ]
  },
  {
   "cell_type": "code",
   "execution_count": 49,
   "id": "4b469ff5",
   "metadata": {},
   "outputs": [
    {
     "data": {
      "text/plain": [
       "array([ 4., 65.,  6., 65., 91.])"
      ]
     },
     "execution_count": 49,
     "metadata": {},
     "output_type": "execute_result"
    }
   ],
   "source": [
    "b = np.array( a[(a<(a.mean()- a.std())) | (a> (a.mean() + a.std()))], dtype=np.float64)\n",
    "b"
   ]
  },
  {
   "cell_type": "code",
   "execution_count": 50,
   "id": "5a02a5c7",
   "metadata": {},
   "outputs": [
    {
     "data": {
      "text/plain": [
       "array([92.78025348, 94.78537978, 41.39134952, 67.83731936, 37.81088809,\n",
       "        2.48887981, 22.36045581,  1.20542237, 80.26251408, 96.91136031,\n",
       "       14.27149282, 67.48939104,  9.30428512, 18.86369952, 12.72013353,\n",
       "       83.30555002, 89.57157728, 52.52102052, 68.58531583,  3.24734063])"
      ]
     },
     "execution_count": 50,
     "metadata": {},
     "output_type": "execute_result"
    }
   ],
   "source": [
    "c = np.random.rand(20)* 100\n",
    "c"
   ]
  },
  {
   "cell_type": "code",
   "execution_count": 51,
   "id": "c7a6a836",
   "metadata": {},
   "outputs": [
    {
     "data": {
      "text/plain": [
       "array([47.88568145, 47.88568145, 41.39134952, 67.83731936, 37.81088809,\n",
       "       47.88568145, 47.88568145,  1.20542237, 47.88568145, 47.88568145,\n",
       "       47.88568145, 67.48939104,  9.30428512, 47.88568145, 47.88568145,\n",
       "       83.30555002, 89.57157728, 47.88568145, 47.88568145,  3.24734063])"
      ]
     },
     "execution_count": 51,
     "metadata": {},
     "output_type": "execute_result"
    }
   ],
   "source": [
    "c[ c.astype(np.int64)%2 == 0 ] = c.mean()\n",
    "c"
   ]
  },
  {
   "cell_type": "markdown",
   "id": "86f07bfe",
   "metadata": {},
   "source": [
    "### Exercise 6 nan\n",
    "\n",
    "(1) Create a NumPy array of 30 random ints from 0-1000.\n",
    "\n",
    "(2) Find the numbers that are < mean-std or > mean+std, and set them to\n",
    "    be nan\n",
    "\n",
    "(3) Now change those nan values to be the mean of the array's\n",
    "    elements."
   ]
  },
  {
   "cell_type": "code",
   "execution_count": 52,
   "id": "c92c0547",
   "metadata": {},
   "outputs": [
    {
     "data": {
      "text/plain": [
       "array([686, 113, 722, 512, 431, 728, 607, 113, 316, 609, 378, 716, 804,\n",
       "       159,  41, 637, 564, 352,  92, 873, 944,  25, 999, 635, 396, 777,\n",
       "        26, 901, 929, 286])"
      ]
     },
     "execution_count": 52,
     "metadata": {},
     "output_type": "execute_result"
    }
   ],
   "source": [
    "a = np.random.randint(0,1000, 30)\n",
    "a"
   ]
  },
  {
   "cell_type": "code",
   "execution_count": 53,
   "id": "f54108dc",
   "metadata": {},
   "outputs": [],
   "source": [
    "a = a.astype(np.float64)"
   ]
  },
  {
   "cell_type": "code",
   "execution_count": 54,
   "id": "fb083702",
   "metadata": {},
   "outputs": [
    {
     "data": {
      "text/plain": [
       "array([686.,  nan, 722., 512., 431., 728., 607.,  nan, 316., 609., 378.,\n",
       "       716., 804.,  nan,  nan, 637., 564., 352.,  nan,  nan,  nan,  nan,\n",
       "        nan, 635., 396., 777.,  nan,  nan,  nan, 286.])"
      ]
     },
     "execution_count": 54,
     "metadata": {},
     "output_type": "execute_result"
    }
   ],
   "source": [
    "a[(a<(a.mean()- a.std())) | (a> (a.mean() + a.std()))] =np.nan\n",
    "a"
   ]
  },
  {
   "cell_type": "code",
   "execution_count": 55,
   "id": "92f96a23",
   "metadata": {},
   "outputs": [
    {
     "data": {
      "text/plain": [
       "array([686.        , 564.22222222, 722.        , 512.        ,\n",
       "       431.        , 728.        , 607.        , 564.22222222,\n",
       "       316.        , 609.        , 378.        , 716.        ,\n",
       "       804.        , 564.22222222, 564.22222222, 637.        ,\n",
       "       564.        , 352.        , 564.22222222, 564.22222222,\n",
       "       564.22222222, 564.22222222, 564.22222222, 635.        ,\n",
       "       396.        , 777.        , 564.22222222, 564.22222222,\n",
       "       564.22222222, 286.        ])"
      ]
     },
     "execution_count": 55,
     "metadata": {},
     "output_type": "execute_result"
    }
   ],
   "source": [
    "a[np.isnan(a)] = a[~np.isnan(a)].mean()\n",
    "a"
   ]
  },
  {
   "cell_type": "markdown",
   "id": "a791edbe",
   "metadata": {},
   "source": [
    "### Exercise 7 Multidimensional NumPy\n",
    "\n",
    "(1) Create a 2-dimensional NumPy array of 45 random integers, from 0-100.\n",
    "\n",
    "(2) Retrieve the elements at row index 2.\n",
    "\n",
    "(3) Retrieve the elements at column index 3.\n",
    "\n",
    "(4) Retrieve the elements at row indexes 1 and 4.\n",
    "\n",
    "(5) Retrieve the elements at column indexes 1 and 4.\n",
    "\n",
    "(6) Get the mean of the even numbers in row index 4.\n",
    "\n",
    "(7) Get the mean of the odd numbers in column index 4."
   ]
  },
  {
   "cell_type": "code",
   "execution_count": 56,
   "id": "68c97d62",
   "metadata": {},
   "outputs": [
    {
     "data": {
      "text/plain": [
       "array([[47, 91, 50, 72, 68, 13, 85, 29, 27],\n",
       "       [42, 60, 80, 69, 75, 58, 67,  4, 36],\n",
       "       [74, 42, 12, 20, 26, 61, 37, 48, 74],\n",
       "       [27, 63, 49, 55, 61, 67, 19, 40, 49],\n",
       "       [67, 58, 38,  3, 91, 99,  2, 11, 42]])"
      ]
     },
     "execution_count": 56,
     "metadata": {},
     "output_type": "execute_result"
    }
   ],
   "source": [
    "a = np.random.randint(0,100, [5,9])\n",
    "a"
   ]
  },
  {
   "cell_type": "code",
   "execution_count": 57,
   "id": "20deb93d",
   "metadata": {},
   "outputs": [
    {
     "data": {
      "text/plain": [
       "array([74, 42, 12, 20, 26, 61, 37, 48, 74])"
      ]
     },
     "execution_count": 57,
     "metadata": {},
     "output_type": "execute_result"
    }
   ],
   "source": [
    "a[2]"
   ]
  },
  {
   "cell_type": "code",
   "execution_count": 58,
   "id": "173bd810",
   "metadata": {},
   "outputs": [
    {
     "data": {
      "text/plain": [
       "array([72, 69, 20, 55,  3])"
      ]
     },
     "execution_count": 58,
     "metadata": {},
     "output_type": "execute_result"
    }
   ],
   "source": [
    "a[:,3]"
   ]
  },
  {
   "cell_type": "code",
   "execution_count": 59,
   "id": "99289a14",
   "metadata": {},
   "outputs": [
    {
     "data": {
      "text/plain": [
       "array([[42, 60, 80, 69, 75, 58, 67,  4, 36],\n",
       "       [67, 58, 38,  3, 91, 99,  2, 11, 42]])"
      ]
     },
     "execution_count": 59,
     "metadata": {},
     "output_type": "execute_result"
    }
   ],
   "source": [
    "a[[1,4],:]"
   ]
  },
  {
   "cell_type": "code",
   "execution_count": 60,
   "id": "efa0be9a",
   "metadata": {},
   "outputs": [
    {
     "data": {
      "text/plain": [
       "array([[91, 68],\n",
       "       [60, 75],\n",
       "       [42, 26],\n",
       "       [63, 61],\n",
       "       [58, 91]])"
      ]
     },
     "execution_count": 60,
     "metadata": {},
     "output_type": "execute_result"
    }
   ],
   "source": [
    "a[:,[1,4]]"
   ]
  },
  {
   "cell_type": "code",
   "execution_count": 61,
   "id": "79569b9e",
   "metadata": {},
   "outputs": [
    {
     "data": {
      "text/plain": [
       "35.0"
      ]
     },
     "execution_count": 61,
     "metadata": {},
     "output_type": "execute_result"
    }
   ],
   "source": [
    "a[4][a[4]% 2 == 0].mean()"
   ]
  },
  {
   "cell_type": "code",
   "execution_count": 63,
   "id": "983245b1",
   "metadata": {},
   "outputs": [
    {
     "data": {
      "text/plain": [
       "75.66666666666667"
      ]
     },
     "execution_count": 63,
     "metadata": {},
     "output_type": "execute_result"
    }
   ],
   "source": [
    "a[:,4][a[:,4] % 2 != 0].mean()"
   ]
  },
  {
   "cell_type": "markdown",
   "id": "6bfe909f",
   "metadata": {},
   "source": [
    "### Exercise 8 More Multidimensional\n",
    "\n",
    "(1) Create a 6x6 NumPy array with random integers from 0-100.\n",
    "\n",
    "(2) What is the mean of each column?\n",
    "\n",
    "(3) Replace all even numbers in the array with twice their values. (So\n",
    "    20 will become 40, and 40 will become 80.)\n",
    "\n",
    "(4) Once again, calculate the mean of each column\n",
    "\n",
    "(5) Now transpose the array and calculate the mean of each row.  Is it\n",
    "    the same as you got before?\n",
    "\n",
    "(6) Now sort each of the columns in the transposed array.  What does\n",
    "    it look like now?"
   ]
  },
  {
   "cell_type": "code",
   "execution_count": 64,
   "id": "59c6a107",
   "metadata": {},
   "outputs": [
    {
     "data": {
      "text/plain": [
       "array([[66, 58, 41,  7, 94, 22],\n",
       "       [19, 86, 92,  2, 78, 89],\n",
       "       [89,  6, 95, 28, 24, 17],\n",
       "       [77, 74, 90, 94, 82, 25],\n",
       "       [53, 73, 45, 77, 14,  0],\n",
       "       [91, 81, 87, 10, 74, 98]])"
      ]
     },
     "execution_count": 64,
     "metadata": {},
     "output_type": "execute_result"
    }
   ],
   "source": [
    "a = np.random.randint(0,100, [6,6])\n",
    "a"
   ]
  },
  {
   "cell_type": "code",
   "execution_count": 65,
   "id": "bd7c3e07",
   "metadata": {},
   "outputs": [
    {
     "data": {
      "text/plain": [
       "array([65.83333333, 63.        , 75.        , 36.33333333, 61.        ,\n",
       "       41.83333333])"
      ]
     },
     "execution_count": 65,
     "metadata": {},
     "output_type": "execute_result"
    }
   ],
   "source": [
    "a.mean(axis = 0)"
   ]
  },
  {
   "cell_type": "code",
   "execution_count": 66,
   "id": "c56ac98d",
   "metadata": {},
   "outputs": [
    {
     "data": {
      "text/plain": [
       "array([[132, 116,  41,   7, 188,  44],\n",
       "       [ 19, 172, 184,   4, 156,  89],\n",
       "       [ 89,  12,  95,  56,  48,  17],\n",
       "       [ 77, 148, 180, 188, 164,  25],\n",
       "       [ 53,  73,  45,  77,  28,   0],\n",
       "       [ 91,  81,  87,  20, 148, 196]])"
      ]
     },
     "execution_count": 66,
     "metadata": {},
     "output_type": "execute_result"
    }
   ],
   "source": [
    "for  i in range(len(a)):\n",
    "  for j in range(len(a[i])):\n",
    "    if a[i][j]%2 == 0:\n",
    "      a[i][j] *=2\n",
    "a"
   ]
  },
  {
   "cell_type": "code",
   "execution_count": 67,
   "id": "3b6311da",
   "metadata": {},
   "outputs": [
    {
     "data": {
      "text/plain": [
       "array([ 76.83333333, 100.33333333, 105.33333333,  58.66666667,\n",
       "       122.        ,  61.83333333])"
      ]
     },
     "execution_count": 67,
     "metadata": {},
     "output_type": "execute_result"
    }
   ],
   "source": [
    "a.mean(axis = 0)"
   ]
  },
  {
   "cell_type": "code",
   "execution_count": 68,
   "id": "a3db3852",
   "metadata": {},
   "outputs": [
    {
     "data": {
      "text/plain": [
       "array([[132,  19,  89,  77,  53,  91],\n",
       "       [116, 172,  12, 148,  73,  81],\n",
       "       [ 41, 184,  95, 180,  45,  87],\n",
       "       [  7,   4,  56, 188,  77,  20],\n",
       "       [188, 156,  48, 164,  28, 148],\n",
       "       [ 44,  89,  17,  25,   0, 196]])"
      ]
     },
     "execution_count": 68,
     "metadata": {},
     "output_type": "execute_result"
    }
   ],
   "source": [
    "a = a.T\n",
    "a"
   ]
  },
  {
   "cell_type": "code",
   "execution_count": 69,
   "id": "e00b30ce",
   "metadata": {},
   "outputs": [
    {
     "data": {
      "text/plain": [
       "array([ 76.83333333, 100.33333333, 105.33333333,  58.66666667,\n",
       "       122.        ,  61.83333333])"
      ]
     },
     "execution_count": 69,
     "metadata": {},
     "output_type": "execute_result"
    }
   ],
   "source": [
    "a.mean(axis = 1) "
   ]
  },
  {
   "cell_type": "code",
   "execution_count": 70,
   "id": "a132029a",
   "metadata": {},
   "outputs": [],
   "source": [
    "# Yes, it is indeed the same as the one we got before"
   ]
  },
  {
   "cell_type": "code",
   "execution_count": 71,
   "id": "b3644c10",
   "metadata": {},
   "outputs": [],
   "source": [
    "a.sort(axis=0)"
   ]
  },
  {
   "cell_type": "code",
   "execution_count": 72,
   "id": "1500629d",
   "metadata": {},
   "outputs": [
    {
     "data": {
      "text/plain": [
       "array([[  7,   4,  12,  25,   0,  20],\n",
       "       [ 41,  19,  17,  77,  28,  81],\n",
       "       [ 44,  89,  48, 148,  45,  87],\n",
       "       [116, 156,  56, 164,  53,  91],\n",
       "       [132, 172,  89, 180,  73, 148],\n",
       "       [188, 184,  95, 188,  77, 196]])"
      ]
     },
     "execution_count": 72,
     "metadata": {},
     "output_type": "execute_result"
    }
   ],
   "source": [
    "a"
   ]
  },
  {
   "cell_type": "markdown",
   "id": "3272ad71",
   "metadata": {},
   "source": [
    "# The END"
   ]
  }
 ],
 "metadata": {
  "kernelspec": {
   "display_name": "Python 3 (ipykernel)",
   "language": "python",
   "name": "python3"
  },
  "language_info": {
   "codemirror_mode": {
    "name": "ipython",
    "version": 3
   },
   "file_extension": ".py",
   "mimetype": "text/x-python",
   "name": "python",
   "nbconvert_exporter": "python",
   "pygments_lexer": "ipython3",
   "version": "3.9.7"
  }
 },
 "nbformat": 4,
 "nbformat_minor": 5
}
